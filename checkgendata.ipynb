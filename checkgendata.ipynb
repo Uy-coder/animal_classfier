{
 "cells": [
  {
   "cell_type": "code",
   "execution_count": 8,
   "metadata": {},
   "outputs": [
    {
     "name": "stderr",
     "output_type": "stream",
     "text": [
      "C:\\Users\\nakas\\anaconda3\\lib\\site-packages\\numpy\\core\\_asarray.py:136: VisibleDeprecationWarning: Creating an ndarray from ragged nested sequences (which is a list-or-tuple of lists-or-tuples-or ndarrays with different lengths or shapes) is deprecated. If you meant to do this, you must specify 'dtype=object' when creating the ndarray\n",
      "  return array(a, dtype, copy=False, order=order, subok=True)\n"
     ]
    }
   ],
   "source": [
    "from PIL import Image\n",
    "import os, glob\n",
    "import numpy as np\n",
    "from sklearn import model_selection\n",
    "\n",
    "classes = ['japanesemacaque','crow','boar']\n",
    "num_classes = len(classes)\n",
    "image_size = 50\n",
    "\n",
    "X = []\n",
    "Y = []\n",
    "for index,classlabel in enumerate(classes):\n",
    "    photos_dir = \"./\" + classlabel\n",
    "    files = glob.glob(photos_dir + \"/*.jpg\")\n",
    "    for i, file in enumerate(files):\n",
    "        if i >= 190: break\n",
    "        image = Image.open(file)\n",
    "        image = image.convert(\"RGB\")\n",
    "        image = image.resize((image_size, image_size))\n",
    "        data = np.asarray(image)\n",
    "        X.append(data)\n",
    "        Y.append(index)\n",
    "\n",
    "X = np.array(X)\n",
    "Y = np.array(Y)\n",
    "\n",
    "X_train, X_test, Y_train, Y_test = model_selection.train_test_split(X, Y)\n",
    "xy = (X_train, X_test, Y_train, Y_test)\n",
    "np.save(\"./animal.npy\",xy)"
   ]
  },
  {
   "cell_type": "code",
   "execution_count": 9,
   "metadata": {},
   "outputs": [
    {
     "data": {
      "text/plain": [
       "427"
      ]
     },
     "execution_count": 9,
     "metadata": {},
     "output_type": "execute_result"
    }
   ],
   "source": [
    "len(X_train)"
   ]
  },
  {
   "cell_type": "code",
   "execution_count": 10,
   "metadata": {},
   "outputs": [
    {
     "data": {
      "text/plain": [
       "143"
      ]
     },
     "execution_count": 10,
     "metadata": {},
     "output_type": "execute_result"
    }
   ],
   "source": [
    "len(X_test)"
   ]
  },
  {
   "cell_type": "code",
   "execution_count": 12,
   "metadata": {},
   "outputs": [
    {
     "data": {
      "text/plain": [
       "array([[[160, 164, 170],\n",
       "        [150, 154, 164],\n",
       "        [142, 146, 157],\n",
       "        ...,\n",
       "        [ 76,  80,  91],\n",
       "        [ 75,  79,  91],\n",
       "        [ 73,  77,  89]],\n",
       "\n",
       "       [[159, 163, 170],\n",
       "        [147, 152, 163],\n",
       "        [136, 143, 153],\n",
       "        ...,\n",
       "        [ 62,  66,  78],\n",
       "        [ 62,  66,  78],\n",
       "        [ 60,  64,  76]],\n",
       "\n",
       "       [[167, 172, 177],\n",
       "        [154, 160, 169],\n",
       "        [144, 150, 160],\n",
       "        ...,\n",
       "        [ 68,  72,  84],\n",
       "        [ 65,  69,  81],\n",
       "        [ 63,  67,  79]],\n",
       "\n",
       "       ...,\n",
       "\n",
       "       [[175, 168, 166],\n",
       "        [170, 164, 165],\n",
       "        [172, 168, 172],\n",
       "        ...,\n",
       "        [173, 170, 176],\n",
       "        [179, 172, 180],\n",
       "        [187, 184, 192]],\n",
       "\n",
       "       [[179, 180, 184],\n",
       "        [162, 163, 173],\n",
       "        [170, 172, 183],\n",
       "        ...,\n",
       "        [160, 157, 165],\n",
       "        [172, 163, 172],\n",
       "        [170, 165, 174]],\n",
       "\n",
       "       [[190, 191, 199],\n",
       "        [184, 185, 194],\n",
       "        [178, 179, 188],\n",
       "        ...,\n",
       "        [194, 190, 198],\n",
       "        [180, 176, 181],\n",
       "        [166, 161, 168]]], dtype=uint8)"
      ]
     },
     "execution_count": 12,
     "metadata": {},
     "output_type": "execute_result"
    }
   ],
   "source": [
    "X_train[100]"
   ]
  },
  {
   "cell_type": "code",
   "execution_count": 13,
   "metadata": {},
   "outputs": [
    {
     "data": {
      "text/plain": [
       "0"
      ]
     },
     "execution_count": 13,
     "metadata": {},
     "output_type": "execute_result"
    }
   ],
   "source": [
    "Y_train[100]"
   ]
  },
  {
   "cell_type": "code",
   "execution_count": null,
   "metadata": {},
   "outputs": [],
   "source": []
  }
 ],
 "metadata": {
  "kernelspec": {
   "display_name": "Python 3",
   "language": "python",
   "name": "python3"
  },
  "language_info": {
   "codemirror_mode": {
    "name": "ipython",
    "version": 3
   },
   "file_extension": ".py",
   "mimetype": "text/x-python",
   "name": "python",
   "nbconvert_exporter": "python",
   "pygments_lexer": "ipython3",
   "version": "3.8.5"
  }
 },
 "nbformat": 4,
 "nbformat_minor": 4
}
